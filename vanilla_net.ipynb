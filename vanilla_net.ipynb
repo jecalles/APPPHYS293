{
 "cells": [
  {
   "cell_type": "code",
   "execution_count": 46,
   "metadata": {
    "collapsed": false
   },
   "outputs": [],
   "source": [
    "import numpy as np\n",
    "import scipy.io as io\n",
    "from keras.utils import np_utils\n",
    "from keras.datasets import mnist\n",
    "from keras.models import Sequential\n",
    "from keras.layers.core import Dense, Dropout"
   ]
  },
  {
   "cell_type": "code",
   "execution_count": 47,
   "metadata": {
    "collapsed": false
   },
   "outputs": [],
   "source": [
    "# initialize model\n",
    "model = Sequential()\n",
    "# add first hidden layer (784 layer assumed)\n",
    "model.add(Dense(500, input_shape=(784,), activation='relu'))\n",
    "model.add(Dropout(0.2))\n",
    "# add second hidden layer\n",
    "model.add(Dense(300, activation='relu'))\n",
    "model.add(Dropout(0.2))\n",
    "model.add(Dense(10, activation='softmax'))\n",
    "\n",
    "# compile model\n",
    "model.compile(loss='mean_squared_error', optimizer='adam', metrics=['accuracy'])"
   ]
  },
  {
   "cell_type": "code",
   "execution_count": 48,
   "metadata": {
    "collapsed": false
   },
   "outputs": [],
   "source": [
    "#import data from MNIST Database\n",
    "(X_train, y_train), (X_test, y_test) = mnist.load_data()\n",
    "\n",
    "# massage data\n",
    "X_train = X_train.reshape(60000, 784)\n",
    "X_test = X_test.reshape(10000, 784)\n",
    "X_train = (X_train.astype('float32'))/255\n",
    "X_test = (X_test.astype('float32'))/255\n",
    "\n",
    "Y_train = np_utils.to_categorical(y_train, 10)\n",
    "Y_test = np_utils.to_categorical(y_test, 10)"
   ]
  },
  {
   "cell_type": "code",
   "execution_count": 49,
   "metadata": {
    "collapsed": false
   },
   "outputs": [
    {
     "name": "stdout",
     "output_type": "stream",
     "text": [
      "Train on 60000 samples, validate on 10000 samples\n",
      "Epoch 1/4\n",
      "60000/60000 [==============================] - 7s - loss: 0.0128 - acc: 0.9149 - val_loss: 0.0056 - val_acc: 0.9638\n",
      "Epoch 2/4\n",
      "60000/60000 [==============================] - 7s - loss: 0.0057 - acc: 0.9634 - val_loss: 0.0043 - val_acc: 0.9725\n",
      "Epoch 3/4\n",
      "60000/60000 [==============================] - 7s - loss: 0.0044 - acc: 0.9718 - val_loss: 0.0041 - val_acc: 0.9741\n",
      "Epoch 4/4\n",
      "60000/60000 [==============================] - 7s - loss: 0.0036 - acc: 0.9771 - val_loss: 0.0038 - val_acc: 0.9756\n"
     ]
    },
    {
     "data": {
      "text/plain": [
       "<keras.callbacks.History at 0x7f8c39d4b9e8>"
      ]
     },
     "execution_count": 49,
     "metadata": {},
     "output_type": "execute_result"
    }
   ],
   "source": [
    "# train model\n",
    "model.fit(X_train, Y_train, batch_size=128, epochs=4, verbose=1, validation_data=(X_test, Y_test))"
   ]
  },
  {
   "cell_type": "code",
   "execution_count": 50,
   "metadata": {
    "collapsed": false
   },
   "outputs": [
    {
     "name": "stdout",
     "output_type": "stream",
     "text": [
      "Test score: 0.00379014544705\n",
      "Test accuracy: 0.9756\n"
     ]
    }
   ],
   "source": [
    "# evaluate model\n",
    "score = model.evaluate(X_test, Y_test, verbose=2)\n",
    "print('Test score:', score[0])\n",
    "print('Test accuracy:', score[1])"
   ]
  },
  {
   "cell_type": "code",
   "execution_count": 51,
   "metadata": {
    "collapsed": false
   },
   "outputs": [],
   "source": [
    "# extract model and save weights to a .mat file\n",
    "weights = model.get_weights()\n",
    "\n",
    "# write individual layers to a dictionary\n",
    "weight_dict = {}\n",
    "# initiate counters\n",
    "layer_count = 0\n",
    "bias_count = 0\n",
    "for i, layer in enumerate(weights):\n",
    "    # sort into odd and even indices\n",
    "    if i%2 == 0:\n",
    "        layer_count += 1\n",
    "        weight_dict['weights_{0}'.format(layer_count)] = weights[i]\n",
    "    else:\n",
    "        bias_count += 1\n",
    "        weight_dict['biases_{0}'.format(bias_count)] = weights[i]\n",
    "\n",
    "# save weights and biases into .mat file\n",
    "io.savemat('./weights.mat',weight_dict)"
   ]
  }
 ],
 "metadata": {
  "kernelspec": {
   "display_name": "Python 3",
   "language": "python",
   "name": "python3"
  },
  "language_info": {
   "codemirror_mode": {
    "name": "ipython",
    "version": 3
   },
   "file_extension": ".py",
   "mimetype": "text/x-python",
   "name": "python",
   "nbconvert_exporter": "python",
   "pygments_lexer": "ipython3",
   "version": "3.5.3"
  }
 },
 "nbformat": 4,
 "nbformat_minor": 2
}
