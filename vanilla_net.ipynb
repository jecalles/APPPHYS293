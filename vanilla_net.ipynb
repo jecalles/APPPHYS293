{
 "cells": [
  {
   "cell_type": "code",
   "execution_count": 41,
   "metadata": {
    "collapsed": false
   },
   "outputs": [],
   "source": [
    "import numpy as np\n",
    "import matplotlib.pyplot as plt\n",
    "import scipy.io as io\n",
    "from keras.utils import np_utils\n",
    "from keras.datasets import mnist\n",
    "from keras.models import Sequential\n",
    "from keras.layers.core import Dense, Dropout"
   ]
  },
  {
   "cell_type": "code",
   "execution_count": 2,
   "metadata": {
    "collapsed": false
   },
   "outputs": [],
   "source": [
    "# initialize model\n",
    "model = Sequential()\n",
    "# add first hidden layer (784 layer assumed)\n",
    "model.add(Dense(500, input_shape=(784,), activation='relu'))\n",
    "model.add(Dropout(0.2))\n",
    "# add second hidden layer\n",
    "model.add(Dense(300, activation='relu'))\n",
    "model.add(Dropout(0.2))\n",
    "model.add(Dense(10, activation='softmax'))\n",
    "\n",
    "# compile model\n",
    "model.compile(loss='mean_squared_error', optimizer='adam', metrics=['accuracy'])"
   ]
  },
  {
   "cell_type": "code",
   "execution_count": 4,
   "metadata": {
    "collapsed": false
   },
   "outputs": [],
   "source": [
    "#import data from MNIST Database\n",
    "(X_train, y_train), (X_test, y_test) = mnist.load_data()\n",
    "\n",
    "# massage data\n",
    "X_train = X_train.reshape(60000, 784)\n",
    "X_test = X_test.reshape(10000, 784)\n",
    "X_train = (X_train.astype('float32'))/255\n",
    "X_test = (X_test.astype('float32'))/255\n",
    "\n",
    "Y_train = np_utils.to_categorical(y_train, 10)\n",
    "Y_test = np_utils.to_categorical(y_test, 10)"
   ]
  },
  {
   "cell_type": "code",
   "execution_count": 12,
   "metadata": {
    "collapsed": false,
    "scrolled": true
   },
   "outputs": [
    {
     "name": "stdout",
     "output_type": "stream",
     "text": [
      "Train on 60000 samples, validate on 10000 samples\n",
      "Epoch 1/4\n",
      "60000/60000 [==============================] - 7s - loss: 0.0124 - acc: 0.9179 - val_loss: 0.0054 - val_acc: 0.9646\n",
      "Epoch 2/4\n",
      "60000/60000 [==============================] - 7s - loss: 0.0057 - acc: 0.9629 - val_loss: 0.0044 - val_acc: 0.9708\n",
      "Epoch 3/4\n",
      "60000/60000 [==============================] - 7s - loss: 0.0043 - acc: 0.9732 - val_loss: 0.0036 - val_acc: 0.9768\n",
      "Epoch 4/4\n",
      "60000/60000 [==============================] - 7s - loss: 0.0035 - acc: 0.9777 - val_loss: 0.0035 - val_acc: 0.9772\n"
     ]
    },
    {
     "data": {
      "text/plain": [
       "<keras.callbacks.History at 0x7f69f0cbaf60>"
      ]
     },
     "execution_count": 12,
     "metadata": {},
     "output_type": "execute_result"
    }
   ],
   "source": [
    "# train model\n",
    "model.fit(X_train, Y_train, batch_size=128, epochs=4, verbose=1, validation_data=(X_test, Y_test))"
   ]
  },
  {
   "cell_type": "code",
   "execution_count": 20,
   "metadata": {
    "collapsed": false
   },
   "outputs": [
    {
     "name": "stdout",
     "output_type": "stream",
     "text": [
      "Test score: 0.00346304196436\n",
      "Test accuracy: 0.9772\n"
     ]
    }
   ],
   "source": [
    "# evaluate model\n",
    "score = model.evaluate(X_test, Y_test, verbose=2)\n",
    "print('Test score:', score[0])\n",
    "print('Test accuracy:', score[1])"
   ]
  },
  {
   "cell_type": "code",
   "execution_count": 19,
   "metadata": {
    "collapsed": false
   },
   "outputs": [],
   "source": [
    "# extract model and save weights to a .mat file\n",
    "weights = model.get_weights()\n",
    "\n",
    "# write individual layers to a dictionary\n",
    "weight_dict = {}\n",
    "# initiate counters\n",
    "layer_count = 0\n",
    "bias_count = 0\n",
    "for i, layer in enumerate(weights):\n",
    "    # sort into odd and even indices\n",
    "    if i%2 == 0:\n",
    "        layer_count += 1\n",
    "        weight_dict['weights_{0}'.format(layer_count)] = weights[i]\n",
    "    else:\n",
    "        bias_count += 1\n",
    "        weight_dict['biases_{0}'.format(bias_count)] = weights[i]\n",
    "\n",
    "# save weights and biases into .mat file\n",
    "io.savemat('./weights.mat',weight_dict)"
   ]
  },
  {
   "cell_type": "code",
   "execution_count": 21,
   "metadata": {
    "collapsed": false
   },
   "outputs": [],
   "source": [
    "# save MNIST data to a .mat file\n",
    "test_data = {\n",
    "    'X_test':X_test,\n",
    "    'Y_test':Y_test\n",
    "}\n",
    "\n",
    "io.savemat('./test_data.mat', test_data)"
   ]
  },
  {
   "cell_type": "code",
   "execution_count": 50,
   "metadata": {
    "collapsed": false
   },
   "outputs": [
    {
     "data": {
      "text/plain": [
       "3"
      ]
     },
     "execution_count": 50,
     "metadata": {},
     "output_type": "execute_result"
    }
   ],
   "source": [
    "# extract model and save weights to a .mat file\n",
    "weights = model.get_weights()\n",
    "W1 = weights[0]\n",
    "B1 = weights[1]\n",
    "W2 = weights[2]\n",
    "B2 = weights[3]\n",
    "W3 = weights[4]\n",
    "B3 = weights[5]\n",
    "\n",
    "X1 = X_test[10,:]\n",
    "\n",
    "X2 = np.matmul(np.transpose(W1), X1)+ B1\n",
    "X2[X2 < 0] = 0\n",
    "X3 = np.matmul(np.transpose(W2), X2) + B2\n",
    "X3[X3 <0] = 0\n",
    "X4 = np.matmul(np.transpose(W3), X3) + B3\n",
    "np.argmax(X4)"
   ]
  },
  {
   "cell_type": "code",
   "execution_count": 48,
   "metadata": {
    "collapsed": false
   },
   "outputs": [
    {
     "data": {
      "image/png": "[encoded data removed]",
      "text/plain": [
       "<matplotlib.figure.Figure at 0x7f16205a5a90>"
      ]
     },
     "metadata": {},
     "output_type": "display_data"
    }
   ],
   "source": [
    "image = X1.reshape((28,28))\n",
    "fig, ax = plt.subplots()\n",
    "ax.imshow(image)\n",
    "plt.show()"
   ]
  }
 ],
 "metadata": {
  "kernelspec": {
   "display_name": "Python 3",
   "language": "python",
   "name": "python3"
  },
  "language_info": {
   "codemirror_mode": {
    "name": "ipython",
    "version": 3
   },
   "file_extension": ".py",
   "mimetype": "text/x-python",
   "name": "python",
   "nbconvert_exporter": "python",
   "pygments_lexer": "ipython3",
   "version": "3.5.3"
  }
 },
 "nbformat": 4,
 "nbformat_minor": 2
}
